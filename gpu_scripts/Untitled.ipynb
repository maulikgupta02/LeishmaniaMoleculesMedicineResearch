{
 "cells": [
  {
   "cell_type": "code",
   "execution_count": 1,
   "id": "ac6614ed-8bb5-4451-8681-5ab039c7e0ea",
   "metadata": {},
   "outputs": [],
   "source": [
    "import numpy as np \n",
    "import pandas as pd\n",
    "from sklearn.model_selection import LeaveOneOut\n",
    "from sklearn.model_selection import train_test_split, GridSearchCV\n",
    "from sklearn.metrics import roc_curve, auc, classification_report, confusion_matrix\n",
    "from sklearn.metrics import accuracy_score, confusion_matrix, roc_curve, roc_auc_score\n",
    "from sklearn.metrics import precision_score\n",
    "from sklearn.metrics import f1_score\n",
    "import warnings\n",
    "from sklearn.model_selection import cross_val_score\n",
    "from numpy import mean\n",
    "from numpy import std\n",
    "warnings.filterwarnings(\"ignore\")\n",
    "from joblib import dump,load"
   ]
  },
  {
   "cell_type": "code",
   "execution_count": 10,
   "id": "75c6e62d-3d4d-4ec6-99e1-faabb76fa97f",
   "metadata": {},
   "outputs": [],
   "source": [
    "def XGB( x_train, x_test, y_train, y_test,tech):\n",
    "    \n",
    "    print(\"XGBoost Classifier\")\n",
    "    print()\n",
    "    \n",
    "    warnings.filterwarnings(\"ignore\")\n",
    "    \n",
    "    classifier_XGB=load(\"../models/avalon/classifier_XGB.joblib\")\n",
    "\n",
    "    y_pred = classifier_XGB.predict(x_test)\n",
    "    predictions = [round(value) for value in y_pred]\n",
    "    from sklearn.metrics import confusion_matrix, accuracy_score\n",
    "    # performace metric\n",
    "    cm = confusion_matrix(y_test, y_pred)\n",
    "    print(\"Confusion Matrix is :\")\n",
    "    print(cm)\n",
    "    from sklearn.metrics import roc_curve\n",
    "    \n",
    "    #metrics\n",
    "    pred_prob = classifier_XGB.predict_proba(x_test)\n",
    "    xgb_acc_wo = accuracy_score(y_test, y_pred)\n",
    "    print(xgb_acc_wo)\n",
    "    xgb_prc_wo= precision_score(y_test, y_pred)\n",
    "    print(xgb_prc_wo)\n",
    "    xbg_f1_wo = f1_score(y_test, y_pred)\n",
    "    print(xbg_f1_wo)\n",
    "    xbg_auc_wo = roc_auc_score(y_test, y_pred)\n",
    "    print(xbg_auc_wo)\n",
    "    \n",
    "    met_dic={\"Accuracy\":[xgb_acc_wo],'Precision': [xgb_prc_wo],'F1-Score': [xbg_f1_wo],'AUC': [xbg_auc_wo]}\n",
    "    temp_df=pd.DataFrame(met_dic)\n",
    "    temp_df.to_csv(f\"../metrics/{tech}/metrics_XGB.csv\")\n",
    "    \n",
    "    pred_prob = classifier_XGB.predict_proba(x_test)\n",
    "    fpr_xgb_wc, tpr_xgb_wc, thresh_xgb_wc = roc_curve(y_test, pred_prob[:,1], pos_label=1)\n",
    "\n",
    "    import matplotlib.pyplot as plt\n",
    "    plt.style.use('seaborn')\n",
    "\n",
    "    # plot roc curves\n",
    "    plt.plot(fpr_xgb_wc, tpr_xgb_wc, linestyle='--',color='orange', label='XGB')\n",
    "    plt.savefig(f\"../plots/{tech}/roc_curve_xgb.png\")\n",
    "    plt.close()\n",
    "    print(\"Accuracy_Score:\",accuracy_score(y_test, y_pred))\n",
    "    print(\"Roc_Score:\",roc_auc_score(y_test,y_pred))\n",
    "    print()\n"
   ]
  },
  {
   "cell_type": "code",
   "execution_count": 11,
   "id": "308e6a9b-35db-4752-9fc4-ed6e0ad9463e",
   "metadata": {},
   "outputs": [
    {
     "name": "stdout",
     "output_type": "stream",
     "text": [
      "XGBoost Classifier\n",
      "\n",
      "Confusion Matrix is :\n",
      "[[11321   536]\n",
      " [ 3294  8563]]\n",
      "0.8384920300244582\n",
      "0.941092427739312\n",
      "0.8172361137621684\n",
      "0.838492030024458\n",
      "Accuracy_Score: 0.8384920300244582\n",
      "Roc_Score: 0.838492030024458\n",
      "\n"
     ]
    }
   ],
   "source": [
    "from imblearn.over_sampling import SMOTE\n",
    "from joblib import dump\n",
    "\n",
    "df = pd.read_csv('../dataset/AID_1063_datatable_smiles_label.csv')\n",
    "y=df[\"label\"]\n",
    "\n",
    "arr=np.load(\"../dataset/avalon_fp.npy\")\n",
    "x=arr\n",
    "\n",
    "smote = SMOTE(random_state=42)\n",
    "x, y = smote.fit_resample(x, y)\n",
    "\n",
    "x_train, x_test, y_train, y_test = train_test_split(x, y, test_size=0.25, random_state=1, shuffle=True)\n",
    "\n",
    "tech = \"avalon\"\n",
    "\n",
    "XGB( x_train, x_test, y_train, y_test,tech)"
   ]
  },
  {
   "cell_type": "code",
   "execution_count": null,
   "id": "ebe59da1-b5a5-41e4-b0e8-a26c7af2fb32",
   "metadata": {},
   "outputs": [],
   "source": []
  }
 ],
 "metadata": {
  "kernelspec": {
   "display_name": "Python 3",
   "language": "python",
   "name": "python3"
  },
  "language_info": {
   "codemirror_mode": {
    "name": "ipython",
    "version": 3
   },
   "file_extension": ".py",
   "mimetype": "text/x-python",
   "name": "python",
   "nbconvert_exporter": "python",
   "pygments_lexer": "ipython3",
   "version": "3.6.9"
  }
 },
 "nbformat": 4,
 "nbformat_minor": 5
}
